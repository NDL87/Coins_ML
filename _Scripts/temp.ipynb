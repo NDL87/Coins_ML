{
 "cells": [
  {
   "cell_type": "code",
   "execution_count": 35,
   "metadata": {},
   "outputs": [],
   "source": [
    "import pandas as pd\n",
    "import numpy as np\n",
    "\n",
    "df = pd.read_csv('D:\\_PROJECTS\\Coins_Classification\\Databases\\Russian_Emp_Coins_1700-1917_Auction_Prices_2008-2020_in_USD_Cleaned.csv')\n",
    "\n",
    "\n",
    "pd.set_option('display.max_rows', 100)\n",
    "pd.set_option('display.max_columns', 50)\n",
    "pd.set_option('display.width', 1000)"
   ]
  },
  {
   "cell_type": "code",
   "execution_count": 37,
   "metadata": {},
   "outputs": [
    {
     "name": "stdout",
     "output_type": "stream",
     "text": [
      "       Unnamed: 0  Year    Nominal Letters Metal Condition        Date  Price_USD\n",
      "53802       53802  1762  10 rublej     ММД    Au       UNC  2020-11-05   166665.0\n",
      "       Unnamed: 0  Year    Nominal Letters Metal Condition        Date  Price_USD\n",
      "53789       53789  1762  10 rublej  ММД TI    Au       UNC  2018-01-04  156249.41\n",
      "   Unnamed: 0  Year      Nominal Letters Metal Condition        Date  Price_USD\n",
      "0           0  1702  0.25 kopeek    ≠АΨВ    Cu        VF  2010-12-09      45.23\n",
      "1           1  1702      Kopejka      БК    Cu       VF-  2015-03-04       8.67\n",
      "2           2  1704  0.25 kopeek     ВРП    Cu       VF+  2015-01-14       3.25\n",
      "3           3  1704   0.5 kopeek    ≠АΨД    Cu       VF+  2010-10-21     106.50\n",
      "4           4  1704   0.5 kopeek      МД    Cu      F/VF  2017-11-15       7.41\n",
      "    Unnamed: 0  Year      Nominal Letters Metal Condition        Date  Price_USD\n",
      "id                                                                              \n",
      "0            0  1702  0.25 kopeek    ≠АΨВ    Cu        VF  2010-12-09      45.23\n",
      "1            1  1702      Kopejka      БК    Cu       VF-  2015-03-04       8.67\n",
      "2            2  1704  0.25 kopeek     ВРП    Cu       VF+  2015-01-14       3.25\n",
      "3            3  1704   0.5 kopeek    ≠АΨД    Cu       VF+  2010-10-21     106.50\n",
      "4            4  1704   0.5 kopeek      МД    Cu      F/VF  2017-11-15       7.41\n"
     ]
    },
    {
     "data": {
      "text/plain": [
       "\"#print(df.sort_values('Price_USD', ascending=True)[:20])\\nprint(df.sort_values('Price_USD', ascending=False)[:20])\\n# Calculate total co2_emission per country: emissions_by_country\\nall_prices = df['Price_USD']\\n\\n# Compute the first and third quantiles and IQR of emissions_by_country\\nq1 = np.quantile(all_prices, 0.000)\\nq3 = np.quantile(all_prices, 0.9999)\\niqr = q3 - q1\\n\\n# Calculate the lower and upper cutoffs for outliers\\nlower = q1 - 1.5 * iqr\\nupper = q3 + 1.5 * iqr\\n\\n# Subset emissions_by_country to find outliers\\n#print(emissions_by_country)\\noutliers = df[(df['Price_USD']<lower) | (df['Price_USD']>upper)]\\nprint(outliers)\""
      ]
     },
     "execution_count": 37,
     "metadata": {},
     "output_type": "execute_result"
    }
   ],
   "source": [
    "max_price_row = df[df['Price_USD'] == df['Price_USD'].max()]\n",
    "print(max_price_row)\n",
    "\n",
    "df.drop(max_price_row.index, inplace=True)\n",
    "\n",
    "max_price_row = df[df['Price_USD'] == df['Price_USD'].max()]\n",
    "print(max_price_row)\n",
    "print(df.head())\n",
    "df.index.name = 'id'\n",
    "print(df.head())\n",
    "#df.to_csv('D:\\_PROJECTS\\Coins_Classification\\Databases\\Russian_Emp_Coins_1700-1917_Auction_Prices_2008-2020_in_USD_Cleaned.csv')\n",
    "\n",
    "\n",
    "'''#print(df.sort_values('Price_USD', ascending=True)[:20])\n",
    "print(df.sort_values('Price_USD', ascending=False)[:20])\n",
    "# Calculate total co2_emission per country: emissions_by_country\n",
    "all_prices = df['Price_USD']\n",
    "\n",
    "# Compute the first and third quantiles and IQR of emissions_by_country\n",
    "q1 = np.quantile(all_prices, 0.000)\n",
    "q3 = np.quantile(all_prices, 0.9999)\n",
    "iqr = q3 - q1\n",
    "\n",
    "# Calculate the lower and upper cutoffs for outliers\n",
    "lower = q1 - 1.5 * iqr\n",
    "upper = q3 + 1.5 * iqr\n",
    "\n",
    "# Subset emissions_by_country to find outliers\n",
    "#print(emissions_by_country)\n",
    "outliers = df[(df['Price_USD']<lower) | (df['Price_USD']>upper)]\n",
    "print(outliers)'''"
   ]
  }
 ],
 "metadata": {
  "kernelspec": {
   "display_name": "ReSim_venv_2",
   "language": "python",
   "name": "python3"
  },
  "language_info": {
   "codemirror_mode": {
    "name": "ipython",
    "version": 3
   },
   "file_extension": ".py",
   "mimetype": "text/x-python",
   "name": "python",
   "nbconvert_exporter": "python",
   "pygments_lexer": "ipython3",
   "version": "3.11.8"
  }
 },
 "nbformat": 4,
 "nbformat_minor": 2
}
